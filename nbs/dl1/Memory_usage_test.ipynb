{
 "cells": [
  {
   "cell_type": "markdown",
   "metadata": {},
   "source": [
    "# Problem Statement\n",
    "\n",
    "While training models on large (1-100M samples) datasets, the amount of used RAM gradually increases during a single training epoch. After a few thousands of training batches, the following exception is usually raised:\n",
    "```\n",
    "RuntimeError: DataLoader worker (pid 31352) is killed by signal: Killed.\n",
    "```\n",
    "Sometimes the format of exception is a little bit different. However, a cause is always the same: the kernel kills training process because it exhausts all available system's memory, doesn't matter how many GB of RAM are available. The plot below was generated when a ResNet18 model was trained on a subset of [Quick Draw Doodle](https://www.kaggle.com/c/quickdraw-doodle-recognition/) competition dataset, with 50000 records per category, `17M = 50K * 340` samples in total. The curve clearly shows a memory leak that happens during the single training epoch.\n",
    "\n",
    "![](./mem.png)\n",
    "\n",
    "\n",
    "The goal of this notebook is to create a snippet that would help to reproduce the leakage to understand if it happens within the `fastai` library's codebase, or on `pytorch` side.\n",
    "\n",
    "## How to reproduce\n",
    "\n",
    "It seems that the leakage shows itself during long training periods. It is clearly seen even during a single training epoch on large dataset. Also, the memory is not deallocated even when an epoch is completed. Therefore, to reproduce, one can try to reduce the batch size, increase a number of training epochs, or do both. In other words, the number of training iterations during epoch should be relatively high (> 10000). \n",
    "\n",
    "The author tried to variate a large set of training conditions:\n",
    "\n",
    "\n",
    "1. Using the `ImageDataBunch.create` method vs. data block API \n",
    "2. Using a custom dataset generating images on the fly agains reading them from persistent storage\n",
    "3. Using different data transformations \n",
    "4. Using different versions of fastai library (1.0.22 and 1.0.28)\n",
    "\n",
    "In every case, the `RuntimeError` exception was eventually raised.\n",
    "\n",
    "The dataset selected in this notebook didn't allow author to _exactly_ reproduce the picture shown above. However, it still shows gradual increasing of consumed memory during epoch. The author expects that this value shouldn't increase at all as soon as the data loader's workers are spawned, and the training process is launched.\n",
    "\n",
    "## Imports"
   ]
  },
  {
   "cell_type": "code",
   "execution_count": 1,
   "metadata": {},
   "outputs": [],
   "source": [
    "%matplotlib inline\n",
    "%reload_ext autoreload\n",
    "%autoreload 2"
   ]
  },
  {
   "cell_type": "code",
   "execution_count": 2,
   "metadata": {},
   "outputs": [],
   "source": [
    "from multiprocessing import cpu_count"
   ]
  },
  {
   "cell_type": "code",
   "execution_count": 3,
   "metadata": {},
   "outputs": [],
   "source": [
    "from fastai import *\n",
    "from fastai.vision import *\n",
    "import psutil"
   ]
  },
  {
   "cell_type": "code",
   "execution_count": 4,
   "metadata": {},
   "outputs": [],
   "source": [
    "device = 0"
   ]
  },
  {
   "cell_type": "code",
   "execution_count": 5,
   "metadata": {},
   "outputs": [],
   "source": [
    "defaults.device = torch.device(f'cuda:{device}')"
   ]
  },
  {
   "cell_type": "code",
   "execution_count": 6,
   "metadata": {},
   "outputs": [],
   "source": [
    "np.random.seed(1)"
   ]
  },
  {
   "cell_type": "markdown",
   "metadata": {},
   "source": [
    "## Memory Tracking Callback\n",
    "\n",
    "To track memory usage during training process, the `MemoryUsage` callback was created. It calls the `psutil.virtual_memory()` function on each batch end and saves returned metrics into CSV file."
   ]
  },
  {
   "cell_type": "code",
   "execution_count": 7,
   "metadata": {},
   "outputs": [],
   "source": [
    "class MemoryUsage(Callback):\n",
    "\n",
    "    def __init__(self, memory_log: str='memory.csv'):\n",
    "        self.memory_log = memory_log\n",
    "        self.iter = None\n",
    "        self._stream = None\n",
    "\n",
    "    def on_train_begin(self, **kwargs):\n",
    "        self.iter = 0\n",
    "        if self._stream is not None:\n",
    "            self.close()\n",
    "        self._stream = open(self.memory_log, 'w')\n",
    "        self._stream.write('index,mem_percent,mem_free,mem_available,mem_used\\n')\n",
    "        super().on_train_begin(**kwargs)\n",
    "\n",
    "    def on_train_end(self, **kwargs):\n",
    "        self.close()\n",
    "\n",
    "    def on_batch_end(self, **kwargs):\n",
    "        self.iter += 1\n",
    "        mem = psutil.virtual_memory()\n",
    "        record = [self.iter, mem.percent, mem.free, mem.available, mem.used]\n",
    "        string = ','.join([str(x) for x in record])\n",
    "        self._stream.write(string + '\\n')\n",
    "        return False\n",
    "\n",
    "    def close(self):\n",
    "        self._stream.flush()\n",
    "        self._stream.close()"
   ]
  },
  {
   "cell_type": "markdown",
   "metadata": {},
   "source": [
    "## Dataset\n",
    "\n",
    "To reveal memory leak, the [The Oxford-IIIT Pet Dataset](http://www.robots.ox.ac.uk/~vgg/data/pets/). However, it could be any other dataset as soon as, presumably, the leakage happens on many machines and doesn't depend on hardware and/or dataset size, and only depends on number of training iterations."
   ]
  },
  {
   "cell_type": "code",
   "execution_count": 8,
   "metadata": {},
   "outputs": [],
   "source": [
    "path = untar_data(URLs.PETS)\n",
    "path_anno = path/'annotations'\n",
    "path_img = path/'images'\n",
    "fnames = get_image_files(path_img)\n",
    "pat = re.compile(r'/([^/]+)_\\d+.jpg$')"
   ]
  },
  {
   "cell_type": "code",
   "execution_count": 9,
   "metadata": {},
   "outputs": [],
   "source": [
    "# tune depending on your hardware\n",
    "image_size = 1500\n",
    "batch_size = 4\n",
    "epochs = 10\n",
    "num_workers = cpu_count()"
   ]
  },
  {
   "cell_type": "code",
   "execution_count": 10,
   "metadata": {},
   "outputs": [],
   "source": [
    "data = ImageDataBunch.from_name_re(\n",
    "    path_img, fnames, pat, \n",
    "    ds_tfms=get_transforms(),\n",
    "    size=image_size,\n",
    "    bs=batch_size, \n",
    "    num_workers=num_workers\n",
    ")\n",
    "_ = data.normalize(imagenet_stats)"
   ]
  },
  {
   "cell_type": "markdown",
   "metadata": {},
   "source": [
    "## The Model's Training \n",
    "\n",
    "Originally, the issue was recorded when training `ResNet18` model from `torchvision` package. Therefore, the same setting is used here. However, presumably, it doesn't depend on the selected architecture as soon as similar `RuntimeError` exceptions were raised while training with other architectures."
   ]
  },
  {
   "cell_type": "code",
   "execution_count": 11,
   "metadata": {},
   "outputs": [],
   "source": [
    "arch = models.resnet18"
   ]
  },
  {
   "cell_type": "code",
   "execution_count": 12,
   "metadata": {},
   "outputs": [],
   "source": [
    "learn = create_cnn(data, arch)"
   ]
  },
  {
   "cell_type": "code",
   "execution_count": 13,
   "metadata": {},
   "outputs": [
    {
     "name": "stdout",
     "output_type": "stream",
     "text": [
      "Total time: 1:24:04\n",
      "epoch  train_loss  valid_loss\n",
      "1      3.300556    2.722148    (09:05)\n",
      "2      2.735832    1.911185    (08:38)\n",
      "3      2.558595    1.648919    (08:28)\n",
      "4      2.058786    1.329126    (08:19)\n",
      "5      1.975124    1.406228    (08:17)\n",
      "6      1.899943    0.973452    (08:18)\n",
      "7      1.703202    1.064001    (08:20)\n",
      "8      1.653843    1.087877    (08:14)\n",
      "9      1.499983    0.893606    (08:15)\n",
      "10     1.395910    0.746711    (08:06)\n",
      "\n"
     ]
    }
   ],
   "source": [
    "learn.fit_one_cycle(epochs, callbacks=[MemoryUsage()])"
   ]
  },
  {
   "cell_type": "code",
   "execution_count": 14,
   "metadata": {},
   "outputs": [],
   "source": [
    "from my_python_tricks import *\n",
    "notify_me()"
   ]
  },
  {
   "cell_type": "markdown",
   "metadata": {},
   "source": [
    "## Memory Consumption Plots\n"
   ]
  },
  {
   "cell_type": "code",
   "execution_count": 15,
   "metadata": {},
   "outputs": [
    {
     "data": {
      "text/html": [
       "<div>\n",
       "<style scoped>\n",
       "    .dataframe tbody tr th:only-of-type {\n",
       "        vertical-align: middle;\n",
       "    }\n",
       "\n",
       "    .dataframe tbody tr th {\n",
       "        vertical-align: top;\n",
       "    }\n",
       "\n",
       "    .dataframe thead th {\n",
       "        text-align: right;\n",
       "    }\n",
       "</style>\n",
       "<table border=\"1\" class=\"dataframe\">\n",
       "  <thead>\n",
       "    <tr style=\"text-align: right;\">\n",
       "      <th></th>\n",
       "      <th>index</th>\n",
       "      <th>mem_percent</th>\n",
       "      <th>mem_free</th>\n",
       "      <th>mem_available</th>\n",
       "      <th>mem_used</th>\n",
       "    </tr>\n",
       "  </thead>\n",
       "  <tbody>\n",
       "    <tr>\n",
       "      <th>0</th>\n",
       "      <td>1</td>\n",
       "      <td>12.4</td>\n",
       "      <td>47718625280</td>\n",
       "      <td>44.773098</td>\n",
       "      <td>4.192307</td>\n",
       "    </tr>\n",
       "    <tr>\n",
       "      <th>1</th>\n",
       "      <td>2</td>\n",
       "      <td>12.3</td>\n",
       "      <td>47794302976</td>\n",
       "      <td>44.843853</td>\n",
       "      <td>4.222069</td>\n",
       "    </tr>\n",
       "    <tr>\n",
       "      <th>2</th>\n",
       "      <td>3</td>\n",
       "      <td>12.0</td>\n",
       "      <td>47950864384</td>\n",
       "      <td>44.989685</td>\n",
       "      <td>4.176968</td>\n",
       "    </tr>\n",
       "    <tr>\n",
       "      <th>3</th>\n",
       "      <td>4</td>\n",
       "      <td>12.0</td>\n",
       "      <td>47930105856</td>\n",
       "      <td>44.970341</td>\n",
       "      <td>4.296947</td>\n",
       "    </tr>\n",
       "  </tbody>\n",
       "</table>\n",
       "</div>"
      ],
      "text/plain": [
       "   index  mem_percent     mem_free  mem_available  mem_used\n",
       "0      1         12.4  47718625280      44.773098  4.192307\n",
       "1      2         12.3  47794302976      44.843853  4.222069\n",
       "2      3         12.0  47950864384      44.989685  4.176968\n",
       "3      4         12.0  47930105856      44.970341  4.296947"
      ]
     },
     "execution_count": 15,
     "metadata": {},
     "output_type": "execute_result"
    }
   ],
   "source": [
    "mem = pd.read_csv('memory.csv')\n",
    "mem['mem_available'] = mem.mem_available / 1024 ** 3\n",
    "mem['mem_used'] = mem.mem_used / 1024 ** 3\n",
    "mem.head(4)"
   ]
  },
  {
   "cell_type": "code",
   "execution_count": 16,
   "metadata": {},
   "outputs": [
    {
     "data": {
      "text/plain": [
       "<matplotlib.axes._subplots.AxesSubplot at 0x7fcd2bc0ae80>"
      ]
     },
     "execution_count": 16,
     "metadata": {},
     "output_type": "execute_result"
    },
    {
     "data": {
      "image/png": "[encoded data removed]",
      "text/plain": [
       "<Figure size 720x864 with 2 Axes>"
      ]
     },
     "metadata": {
      "needs_background": "light"
     },
     "output_type": "display_data"
    }
   ],
   "source": [
    "f, ax = plt.subplots(2, 1, figsize=(10, 12))\n",
    "\n",
    "ax1, ax2 = ax.flat\n",
    "\n",
    "mem.plot(x='index', y='mem_percent', ax=ax1)\n",
    "mem.plot(x='index', y='mem_available', ax=ax2)\n",
    "mem.plot(x='index', y='mem_used', ax=ax2)"
   ]
  },
  {
   "cell_type": "code",
   "execution_count": null,
   "metadata": {},
   "outputs": [],
   "source": []
  }
 ],
 "metadata": {
  "kernelspec": {
   "display_name": "Python 3",
   "language": "python",
   "name": "python3"
  },
  "language_info": {
   "codemirror_mode": {
    "name": "ipython",
    "version": 3
   },
   "file_extension": ".py",
   "mimetype": "text/x-python",
   "name": "python",
   "nbconvert_exporter": "python",
   "pygments_lexer": "ipython3",
   "version": "3.7.0"
  }
 },
 "nbformat": 4,
 "nbformat_minor": 2
}
